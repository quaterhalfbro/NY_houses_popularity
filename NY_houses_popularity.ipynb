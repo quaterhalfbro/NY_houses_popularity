{
 "cells": [
  {
   "cell_type": "code",
   "execution_count": 82,
   "id": "ce529dae",
   "metadata": {},
   "outputs": [],
   "source": [
    "import numpy as np\n",
    "import pandas as pd\n",
    "import matplotlib.pyplot as plt\n",
    "from sklearn.linear_model import RANSACRegressor, LinearRegression, LogisticRegression\n",
    "from sklearn.neighbors import KNeighborsClassifier\n",
    "from sklearn.metrics import accuracy_score\n",
    "from sklearn.ensemble import RandomForestClassifier\n",
    "from sklearn.model_selection import train_test_split, cross_val_score"
   ]
  },
  {
   "cell_type": "code",
   "execution_count": 83,
   "id": "d6ce587a",
   "metadata": {},
   "outputs": [],
   "source": [
    "raw_data = pd.read_csv('train.csv')"
   ]
  },
  {
   "cell_type": "code",
   "execution_count": 84,
   "id": "94099fbe",
   "metadata": {},
   "outputs": [
    {
     "data": {
      "text/html": [
       "<div>\n",
       "<style scoped>\n",
       "    .dataframe tbody tr th:only-of-type {\n",
       "        vertical-align: middle;\n",
       "    }\n",
       "\n",
       "    .dataframe tbody tr th {\n",
       "        vertical-align: top;\n",
       "    }\n",
       "\n",
       "    .dataframe thead th {\n",
       "        text-align: right;\n",
       "    }\n",
       "</style>\n",
       "<table border=\"1\" class=\"dataframe\">\n",
       "  <thead>\n",
       "    <tr style=\"text-align: right;\">\n",
       "      <th></th>\n",
       "      <th>Id</th>\n",
       "      <th>bathrooms</th>\n",
       "      <th>bedrooms</th>\n",
       "      <th>building_id</th>\n",
       "      <th>created</th>\n",
       "      <th>description</th>\n",
       "      <th>display_address</th>\n",
       "      <th>features</th>\n",
       "      <th>latitude</th>\n",
       "      <th>listing_id</th>\n",
       "      <th>longitude</th>\n",
       "      <th>manager_id</th>\n",
       "      <th>photos</th>\n",
       "      <th>price</th>\n",
       "      <th>street_address</th>\n",
       "      <th>TARGET</th>\n",
       "    </tr>\n",
       "  </thead>\n",
       "  <tbody>\n",
       "    <tr>\n",
       "      <th>0</th>\n",
       "      <td>57094</td>\n",
       "      <td>1.0</td>\n",
       "      <td>3</td>\n",
       "      <td>0</td>\n",
       "      <td>2016-05-19 18:06:27</td>\n",
       "      <td>A FABULOUS 3BR IN MIDTOWN WEST!   PERFECT APAR...</td>\n",
       "      <td>HOW AMAZING IS THIS MIDTOWN WEST STEAL!! NO FE...</td>\n",
       "      <td>['Laundry In Unit', 'No Fee', 'Elevator']</td>\n",
       "      <td>40.7647</td>\n",
       "      <td>7039994</td>\n",
       "      <td>-73.9918</td>\n",
       "      <td>4bdc3d8c1aaa90d997ce2cb77680679b</td>\n",
       "      <td>['https://photos.renthop.com/2/7039994_07be01b...</td>\n",
       "      <td>4495</td>\n",
       "      <td>W 50 &amp; AVE 10</td>\n",
       "      <td>medium</td>\n",
       "    </tr>\n",
       "    <tr>\n",
       "      <th>1</th>\n",
       "      <td>33389</td>\n",
       "      <td>1.0</td>\n",
       "      <td>1</td>\n",
       "      <td>9225efdfb57a50bf3ec17ebab082f94a</td>\n",
       "      <td>2016-06-16 02:01:49</td>\n",
       "      <td>Renovated Kitchen and Bathroom!</td>\n",
       "      <td>55 River Drive South</td>\n",
       "      <td>['Dogs Allowed', 'Cats Allowed', 'No Fee']</td>\n",
       "      <td>40.7275</td>\n",
       "      <td>7166774</td>\n",
       "      <td>-74.0322</td>\n",
       "      <td>e5808a5e6cc13988fe596704428d38d5</td>\n",
       "      <td>['https://photos.renthop.com/2/7166774_03cf63a...</td>\n",
       "      <td>2570</td>\n",
       "      <td>55 River Drive South</td>\n",
       "      <td>medium</td>\n",
       "    </tr>\n",
       "    <tr>\n",
       "      <th>2</th>\n",
       "      <td>60458</td>\n",
       "      <td>1.0</td>\n",
       "      <td>0</td>\n",
       "      <td>320de7d3cc88e50a7fbbcfde1e825d21</td>\n",
       "      <td>2016-05-04 02:42:50</td>\n",
       "      <td>RARE AND BEST DEAL ON THE MARKET!!!! PERFECT S...</td>\n",
       "      <td>W 77 Street</td>\n",
       "      <td>['Elevator', 'Hardwood Floors']</td>\n",
       "      <td>40.7798</td>\n",
       "      <td>6962716</td>\n",
       "      <td>-73.9751</td>\n",
       "      <td>d69d4e111612dd12ef864031c1148543</td>\n",
       "      <td>['https://photos.renthop.com/2/6962716_ec7f56f...</td>\n",
       "      <td>1795</td>\n",
       "      <td>22 W 77 Street</td>\n",
       "      <td>low</td>\n",
       "    </tr>\n",
       "    <tr>\n",
       "      <th>3</th>\n",
       "      <td>53048</td>\n",
       "      <td>1.0</td>\n",
       "      <td>2</td>\n",
       "      <td>ce6d18bf3238e668b2bf23f4110b7b67</td>\n",
       "      <td>2016-05-12 05:57:56</td>\n",
       "      <td>Newly renovated flex 2 apartment offers the ne...</td>\n",
       "      <td>John Street</td>\n",
       "      <td>['Swimming Pool', 'Doorman', 'Elevator', 'Fitn...</td>\n",
       "      <td>40.7081</td>\n",
       "      <td>7002458</td>\n",
       "      <td>-74.0065</td>\n",
       "      <td>e6472c7237327dd3903b3d6f6a94515a</td>\n",
       "      <td>['https://photos.renthop.com/2/7002458_93f4010...</td>\n",
       "      <td>3400</td>\n",
       "      <td>100 John Street</td>\n",
       "      <td>low</td>\n",
       "    </tr>\n",
       "    <tr>\n",
       "      <th>4</th>\n",
       "      <td>592</td>\n",
       "      <td>1.0</td>\n",
       "      <td>3</td>\n",
       "      <td>fee4d465932160318364d9d48d272879</td>\n",
       "      <td>2016-06-16 06:06:15</td>\n",
       "      <td>LOW FEE apartments do not come around like thi...</td>\n",
       "      <td>West 16th Street</td>\n",
       "      <td>['Laundry in Building', 'Laundry in Unit', 'Di...</td>\n",
       "      <td>40.7416</td>\n",
       "      <td>7170465</td>\n",
       "      <td>-74.0025</td>\n",
       "      <td>6fba9b3a8327c607b8b043716efee684</td>\n",
       "      <td>['https://photos.renthop.com/2/7170465_9c3f173...</td>\n",
       "      <td>5695</td>\n",
       "      <td>321 West 16th Street</td>\n",
       "      <td>low</td>\n",
       "    </tr>\n",
       "  </tbody>\n",
       "</table>\n",
       "</div>"
      ],
      "text/plain": [
       "      Id  bathrooms  bedrooms                       building_id  \\\n",
       "0  57094        1.0         3                                 0   \n",
       "1  33389        1.0         1  9225efdfb57a50bf3ec17ebab082f94a   \n",
       "2  60458        1.0         0  320de7d3cc88e50a7fbbcfde1e825d21   \n",
       "3  53048        1.0         2  ce6d18bf3238e668b2bf23f4110b7b67   \n",
       "4    592        1.0         3  fee4d465932160318364d9d48d272879   \n",
       "\n",
       "               created                                        description  \\\n",
       "0  2016-05-19 18:06:27  A FABULOUS 3BR IN MIDTOWN WEST!   PERFECT APAR...   \n",
       "1  2016-06-16 02:01:49                    Renovated Kitchen and Bathroom!   \n",
       "2  2016-05-04 02:42:50  RARE AND BEST DEAL ON THE MARKET!!!! PERFECT S...   \n",
       "3  2016-05-12 05:57:56  Newly renovated flex 2 apartment offers the ne...   \n",
       "4  2016-06-16 06:06:15  LOW FEE apartments do not come around like thi...   \n",
       "\n",
       "                                     display_address  \\\n",
       "0  HOW AMAZING IS THIS MIDTOWN WEST STEAL!! NO FE...   \n",
       "1                               55 River Drive South   \n",
       "2                                        W 77 Street   \n",
       "3                                        John Street   \n",
       "4                                   West 16th Street   \n",
       "\n",
       "                                            features  latitude  listing_id  \\\n",
       "0          ['Laundry In Unit', 'No Fee', 'Elevator']   40.7647     7039994   \n",
       "1         ['Dogs Allowed', 'Cats Allowed', 'No Fee']   40.7275     7166774   \n",
       "2                    ['Elevator', 'Hardwood Floors']   40.7798     6962716   \n",
       "3  ['Swimming Pool', 'Doorman', 'Elevator', 'Fitn...   40.7081     7002458   \n",
       "4  ['Laundry in Building', 'Laundry in Unit', 'Di...   40.7416     7170465   \n",
       "\n",
       "   longitude                        manager_id  \\\n",
       "0   -73.9918  4bdc3d8c1aaa90d997ce2cb77680679b   \n",
       "1   -74.0322  e5808a5e6cc13988fe596704428d38d5   \n",
       "2   -73.9751  d69d4e111612dd12ef864031c1148543   \n",
       "3   -74.0065  e6472c7237327dd3903b3d6f6a94515a   \n",
       "4   -74.0025  6fba9b3a8327c607b8b043716efee684   \n",
       "\n",
       "                                              photos  price  \\\n",
       "0  ['https://photos.renthop.com/2/7039994_07be01b...   4495   \n",
       "1  ['https://photos.renthop.com/2/7166774_03cf63a...   2570   \n",
       "2  ['https://photos.renthop.com/2/6962716_ec7f56f...   1795   \n",
       "3  ['https://photos.renthop.com/2/7002458_93f4010...   3400   \n",
       "4  ['https://photos.renthop.com/2/7170465_9c3f173...   5695   \n",
       "\n",
       "         street_address  TARGET  \n",
       "0         W 50 & AVE 10  medium  \n",
       "1  55 River Drive South  medium  \n",
       "2        22 W 77 Street     low  \n",
       "3       100 John Street     low  \n",
       "4  321 West 16th Street     low  "
      ]
     },
     "execution_count": 84,
     "metadata": {},
     "output_type": "execute_result"
    }
   ],
   "source": [
    "raw_data.head()"
   ]
  },
  {
   "cell_type": "code",
   "execution_count": 85,
   "id": "edd8b1f9",
   "metadata": {},
   "outputs": [],
   "source": [
    "processed_data = pd.DataFrame()\n",
    "time = pd.to_datetime(raw_data[\"created\"])\n",
    "processed_data['created'] = (time.dt.hour * 60 + time.dt.minute) * 60 + time.dt.second"
   ]
  },
  {
   "cell_type": "code",
   "execution_count": 86,
   "id": "c3d4a3f5",
   "metadata": {},
   "outputs": [
    {
     "data": {
      "image/png": "[encoded data removed]",
      "text/plain": [
       "<Figure size 432x288 with 1 Axes>"
      ]
     },
     "metadata": {
      "needs_background": "light"
     },
     "output_type": "display_data"
    }
   ],
   "source": [
    "plt.hist(processed_data['created'])\n",
    "plt.show()"
   ]
  },
  {
   "cell_type": "markdown",
   "id": "f9b913fc",
   "metadata": {},
   "source": [
    "**Сведём время к нормальному распределению**"
   ]
  },
  {
   "cell_type": "code",
   "execution_count": 87,
   "id": "6afdbdf1",
   "metadata": {},
   "outputs": [
    {
     "data": {
      "image/png": "[encoded data removed]",
      "text/plain": [
       "<Figure size 432x288 with 1 Axes>"
      ]
     },
     "metadata": {
      "needs_background": "light"
     },
     "output_type": "display_data"
    }
   ],
   "source": [
    "processed_data['created'] = np.log(processed_data['created'])\n",
    "plt.hist(processed_data['created'])\n",
    "plt.show()"
   ]
  },
  {
   "cell_type": "code",
   "execution_count": 88,
   "id": "f60338d5",
   "metadata": {},
   "outputs": [],
   "source": [
    "processed_data['bathrooms'] = raw_data['bathrooms']\n",
    "processed_data['bedrooms'] = raw_data['bedrooms']\n",
    "processed_data['price'] = raw_data['price']"
   ]
  },
  {
   "cell_type": "markdown",
   "id": "56cdce3e",
   "metadata": {},
   "source": [
    "**Оставим 25 самых популярных лейблов**"
   ]
  },
  {
   "cell_type": "code",
   "execution_count": 89,
   "id": "47a0252f",
   "metadata": {},
   "outputs": [],
   "source": [
    "labels = []\n",
    "for i in raw_data['features'].values:\n",
    "    for j in i[1:-1].split(', '):\n",
    "         labels.append(j)\n",
    "labels = np.array(labels)\n",
    "a, b = np.unique(labels, return_counts=True)\n",
    "labels = [i[1] for i in sorted(zip(b, a))[-25:]]"
   ]
  },
  {
   "cell_type": "code",
   "execution_count": 90,
   "id": "23c1df31",
   "metadata": {},
   "outputs": [],
   "source": [
    "for i in labels:\n",
    "    processed_data[i] = np.array([i in j for j in raw_data['features']]).astype('int32')"
   ]
  },
  {
   "cell_type": "markdown",
   "id": "1228bc6d",
   "metadata": {},
   "source": [
    "**Посмотрим на разные районы города**"
   ]
  },
  {
   "cell_type": "code",
   "execution_count": 91,
   "id": "24b8b15c",
   "metadata": {},
   "outputs": [],
   "source": [
    "neighborhoods = pd.read_csv('AB_NYC_2019.csv')[['latitude', 'longitude', 'neighbourhood_group']]"
   ]
  },
  {
   "cell_type": "code",
   "execution_count": 92,
   "id": "aaaeaa65",
   "metadata": {},
   "outputs": [
    {
     "data": {
      "image/png": "[encoded data removed]",
      "text/plain": [
       "<Figure size 432x288 with 1 Axes>"
      ]
     },
     "metadata": {
      "needs_background": "light"
     },
     "output_type": "display_data"
    }
   ],
   "source": [
    "cur = neighborhoods[neighborhoods['neighbourhood_group'] == \"Manhattan\"]\n",
    "plt.scatter(x=cur['latitude'], y=cur['longitude'], c='red', label=\"Manhattan\")\n",
    "cur = neighborhoods[neighborhoods['neighbourhood_group'] == \"Bronx\"]\n",
    "plt.scatter(x=cur['latitude'], y=cur['longitude'], c='blue', label=\"Bronx\")\n",
    "cur = neighborhoods[neighborhoods['neighbourhood_group'] == \"Queens\"]\n",
    "plt.scatter(x=cur['latitude'], y=cur['longitude'], c='yellow', label=\"Queens\")\n",
    "cur = neighborhoods[neighborhoods['neighbourhood_group'] == \"Brooklyn\"]\n",
    "plt.scatter(x=cur['latitude'], y=cur['longitude'], c='black', label=\"Brooklyn\")\n",
    "cur = neighborhoods[neighborhoods['neighbourhood_group'] == \"Staten Island\"]\n",
    "plt.scatter(x=cur['latitude'], y=cur['longitude'], c='purple', label=\"Staten Island\")\n",
    "plt.legend()\n",
    "plt.show()"
   ]
  },
  {
   "cell_type": "markdown",
   "id": "16dfaa71",
   "metadata": {},
   "source": [
    "**С помощью KNN разметим каким районам принадлежат квартиры из датасета**"
   ]
  },
  {
   "cell_type": "code",
   "execution_count": 93,
   "id": "7415a9bb",
   "metadata": {},
   "outputs": [],
   "source": [
    "knn_model = KNeighborsClassifier()\n",
    "knn_model = knn_model.fit(neighborhoods[['latitude', 'longitude']], neighborhoods['neighbourhood_group'])"
   ]
  },
  {
   "cell_type": "code",
   "execution_count": 94,
   "id": "cd34ef65",
   "metadata": {},
   "outputs": [],
   "source": [
    "processed_data['neighbourhood'] = knn_model.predict(raw_data[['latitude', 'longitude']])\n",
    "processed_data['latitude'] = raw_data['latitude']\n",
    "processed_data['longitude'] = raw_data['longitude']"
   ]
  },
  {
   "cell_type": "code",
   "execution_count": 96,
   "id": "805723ee",
   "metadata": {},
   "outputs": [
    {
     "data": {
      "image/png": "[encoded data removed]",
      "text/plain": [
       "<Figure size 432x288 with 1 Axes>"
      ]
     },
     "metadata": {
      "needs_background": "light"
     },
     "output_type": "display_data"
    }
   ],
   "source": [
    "neighborhoods = processed_data[(processed_data['latitude'] > 40.55) & (processed_data['latitude'] < 40.95) & (processed_data['longitude'] < -73.7) & (processed_data['longitude'] > -74.2)]\n",
    "cur = neighborhoods[neighborhoods['neighbourhood'] == \"Manhattan\"]\n",
    "plt.scatter(x=cur['latitude'], y=cur['longitude'], c='red', label=\"Manhattan\")\n",
    "cur = neighborhoods[neighborhoods['neighbourhood'] == \"Bronx\"]\n",
    "plt.scatter(x=cur['latitude'], y=cur['longitude'], c='blue', label=\"Bronx\")\n",
    "cur = neighborhoods[neighborhoods['neighbourhood'] == \"Queens\"]\n",
    "plt.scatter(x=cur['latitude'], y=cur['longitude'], c='yellow', label=\"Queens\")\n",
    "cur = neighborhoods[neighborhoods['neighbourhood'] == \"Brooklyn\"]\n",
    "plt.scatter(x=cur['latitude'], y=cur['longitude'], c='black', label=\"Brooklyn\")\n",
    "cur = neighborhoods[neighborhoods['neighbourhood'] == \"Staten Island\"]\n",
    "plt.scatter(x=cur['latitude'], y=cur['longitude'], c='purple', label=\"Staten Island\")\n",
    "plt.legend()\n",
    "plt.show()"
   ]
  },
  {
   "cell_type": "code",
   "execution_count": 16,
   "id": "63cb31f6",
   "metadata": {},
   "outputs": [],
   "source": [
    "for i in np.unique(processed_data['neighbourhood'].values):\n",
    "    processed_data[i] = (processed_data['neighbourhood'] == i).astype('int32')\n",
    "processed_data = processed_data.drop(['neighbourhood'], axis=1)\n",
    "processed_data = processed_data.loc[processed_data['latitude'] != 0]\n",
    "processed_data['target'] = raw_data['TARGET']"
   ]
  },
  {
   "cell_type": "code",
   "execution_count": 17,
   "id": "9db6e5c8",
   "metadata": {},
   "outputs": [],
   "source": [
    "def metric(model, x, y):\n",
    "    weights = np.array([0.3276 if i == 'low' else 1.0 if i == 'medium' else 2.9245 for i in y])\n",
    "    return accuracy_score(y, model.predict(x), sample_weight=weights)"
   ]
  },
  {
   "cell_type": "code",
   "execution_count": 18,
   "id": "c3b9e373",
   "metadata": {},
   "outputs": [
    {
     "data": {
      "image/png": "[encoded data removed]",
      "text/plain": [
       "<Figure size 432x288 with 1 Axes>"
      ]
     },
     "metadata": {
      "needs_background": "light"
     },
     "output_type": "display_data"
    }
   ],
   "source": [
    "history = []\n",
    "for depth in range(1, 30):\n",
    "    model = RandomForestClassifier(max_depth=depth, n_estimators=50)\n",
    "    history.append(cross_val_score(model, processed_data.drop(['target'], axis=1), \n",
    "                                   processed_data['target'], cv=5, scoring=metric))\n",
    "plt.plot(range(1, 30), history, c='red')\n",
    "plt.show()"
   ]
  },
  {
   "cell_type": "code",
   "execution_count": 19,
   "id": "3b73ccf3",
   "metadata": {},
   "outputs": [],
   "source": [
    "x_train, x_test, y_train, y_test = train_test_split(processed_data.drop(['target'], axis=1), processed_data['target'], test_size=0.2)\n",
    "model = RandomForestClassifier(max_depth=26, n_estimators=50)\n",
    "model.fit(x_train, y_train)\n",
    "y_pred = model.predict_proba(x_test)\n",
    "history = []\n",
    "mx = -1\n",
    "weights = np.array([0.3276 if i == 'low' else 1.0 if i == 'medium' else 2.9245 for i in y_test])\n",
    "for p1 in range(50):\n",
    "    for p2 in range(50):\n",
    "        y_pred_labels = np.array(['high' if i[0] > p1 / 50 else 'low' if i[1] > p2 / 50 else 'medium' for i in y_pred])\n",
    "        score = accuracy_score(y_test, y_pred_labels, sample_weight=weights)\n",
    "        if score > mx:\n",
    "            mx = score\n",
    "            p1_mx, p2_mx = p1, p2"
   ]
  },
  {
   "cell_type": "code",
   "execution_count": 20,
   "id": "9747f692",
   "metadata": {},
   "outputs": [
    {
     "data": {
      "text/plain": [
       "0.5912930730004858"
      ]
     },
     "execution_count": 20,
     "metadata": {},
     "output_type": "execute_result"
    }
   ],
   "source": [
    "mx"
   ]
  }
 ],
 "metadata": {
  "kernelspec": {
   "display_name": "Python 3",
   "language": "python",
   "name": "python3"
  },
  "language_info": {
   "codemirror_mode": {
    "name": "ipython",
    "version": 3
   },
   "file_extension": ".py",
   "mimetype": "text/x-python",
   "name": "python",
   "nbconvert_exporter": "python",
   "pygments_lexer": "ipython3",
   "version": "3.8.8"
  }
 },
 "nbformat": 4,
 "nbformat_minor": 5
}
